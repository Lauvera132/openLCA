{
 "cells": [
  {
   "cell_type": "markdown",
   "id": "b0c359fb",
   "metadata": {},
   "source": [
    "# Introduction\n",
    "\n",
    "This program performs analysis and visualization of openLCA results from an LCIA calculation, starting with an excel file export. This program assumes that you've already compiled an excel file of the unit processes exported from your openLCA database, with ISIC categories assigned to each process. This excel file should be named \"database_process_summary_added.xlsx\" with the corresponding file path."
   ]
  },
  {
   "cell_type": "markdown",
   "id": "acb1309a",
   "metadata": {},
   "source": [
    "# Setup"
   ]
  },
  {
   "cell_type": "code",
   "execution_count": null,
   "id": "82e31a2d",
   "metadata": {},
   "outputs": [],
   "source": [
    "import pandas as pd\n",
    "import matplotlib.pyplot as plt"
   ]
  },
  {
   "cell_type": "code",
   "execution_count": null,
   "id": "7d5d3489",
   "metadata": {},
   "outputs": [],
   "source": [
    "# Set up variables\n",
    "\n",
    "lca_results_file_path = r'C:\\Users\\laura\\OneDrive\\Documents\\UT_graduate\\WEG_graduate_research\\Hydrogen_fugitive_emissions_natural_h2\\openLCA_ecoinvent\\Hydrogen_gas__at_processing__production_mixture__to_consumer__kg___US__85__mol_H2____H2_Average___CH4_Capture.xlsx'\n",
    "sheet_name = 'Direct impact contributions'\n"
   ]
  },
  {
   "cell_type": "markdown",
   "id": "51a7cede",
   "metadata": {},
   "source": []
  }
 ],
 "metadata": {
  "kernelspec": {
   "display_name": "base",
   "language": "python",
   "name": "python3"
  },
  "language_info": {
   "name": "python",
   "version": "3.12.2"
  }
 },
 "nbformat": 4,
 "nbformat_minor": 5
}
