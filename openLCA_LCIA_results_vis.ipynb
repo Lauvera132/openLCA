{
 "cells": [
  {
   "cell_type": "markdown",
   "id": "b0c359fb",
   "metadata": {},
   "source": [
    "# Introduction\n",
    "\n",
    "This program performs analysis and visualization of openLCA results from an LCIA calculation, starting with an excel file export. This program assumes that you've already compiled an excel file of the unit processes exported from your openLCA database, with ISIC categories assigned to each process, using the "
   ]
  }
 ],
 "metadata": {
  "language_info": {
   "name": "python"
  }
 },
 "nbformat": 4,
 "nbformat_minor": 5
}
